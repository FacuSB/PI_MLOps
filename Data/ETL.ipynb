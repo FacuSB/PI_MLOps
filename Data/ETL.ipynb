{
 "cells": [
  {
   "cell_type": "markdown",
   "metadata": {},
   "source": [
    "## Extract"
   ]
  },
  {
   "cell_type": "markdown",
   "metadata": {},
   "source": [
    "Primero que nada transformo los datos en csv para visualizarlo mas facilmente, no es necesario pero me facilita ver los datos de una forma mas intuitiva "
   ]
  },
  {
   "cell_type": "markdown",
   "metadata": {},
   "source": [
    "#### Convertir los json a csv"
   ]
  },
  {
   "cell_type": "markdown",
   "metadata": {},
   "source": [
    "funcion para extraer gzip"
   ]
  },
  {
   "cell_type": "code",
   "execution_count": 16,
   "metadata": {},
   "outputs": [],
   "source": [
    "\n",
    "import gzip\n",
    "import shutil\n",
    "\n",
    "def extract_gzip(gzip_path, dest_path):\n",
    "    with gzip.open(gzip_path, 'rb') as f_in:\n",
    "        with open(dest_path, 'wb') as f_out:\n",
    "            shutil.copyfileobj(f_in, f_out)\n",
    "    print(f'Archivo {gzip_path} extraído en {dest_path}')\n"
   ]
  },
  {
   "cell_type": "markdown",
   "metadata": {},
   "source": [
    "funciones para convertir los json en csv"
   ]
  },
  {
   "cell_type": "code",
   "execution_count": 17,
   "metadata": {},
   "outputs": [],
   "source": [
    "import json\n",
    "import csv\n",
    "\n",
    "def json_to_csv(json_file, csv_file):\n",
    "    # Abre el archivo JSON\n",
    "    with open(json_file, 'rt', encoding='utf-8') as file:\n",
    "        # Lee todas las líneas del archivo\n",
    "        json_lines = file.readlines()\n",
    "\n",
    "    # Convierte cada línea a un objeto Python y concaténalos en una lista\n",
    "    data = [json.loads(line) for line in json_lines]\n",
    "\n",
    "    # Abre el archivo CSV para escribir\n",
    "    with open(csv_file, 'w', newline='', encoding='utf-8') as csv_file:\n",
    "        # Crea un objeto escritor CSV\n",
    "        csv_writer = csv.writer(csv_file)\n",
    "\n",
    "        # Escribe el encabezado del CSV (asumiendo que los keys del primer objeto son los encabezados)\n",
    "        csv_writer.writerow(data[0].keys())\n",
    "\n",
    "        # Escribe cada fila en el CSV\n",
    "        for row in data:\n",
    "            csv_writer.writerow(row.values())"
   ]
  },
  {
   "cell_type": "code",
   "execution_count": 18,
   "metadata": {},
   "outputs": [],
   "source": [
    "import ast\n",
    "import pandas as pd\n",
    "\n",
    "def json_to_csv2(json_file, csv_file):\n",
    "    # Inicializamos una lista vacía para almacenar los datos\n",
    "    data = []\n",
    "\n",
    "    # Abrimos el archivo JSON en modo lectura\n",
    "    with open(json_file, 'r', encoding='utf-8') as f:\n",
    "        # Iteramos sobre cada línea en el archivo\n",
    "        for line in f:\n",
    "            try:\n",
    "                # Intentamos convertir la línea de texto a un objeto Python usando ast.literal_eval\n",
    "                # y lo añadimos a la lista data\n",
    "                data.append(ast.literal_eval(line))\n",
    "            except:\n",
    "                continue\n",
    "\n",
    "    # Convertimos la lista de datos a un DataFrame de pandas\n",
    "    df = pd.DataFrame(data)\n",
    "\n",
    "    # Guardamos el DataFrame en un archivo CSV\n",
    "    df.to_csv(csv_file, index=False)\n"
   ]
  },
  {
   "cell_type": "markdown",
   "metadata": {},
   "source": [
    "aplico las funciones"
   ]
  },
  {
   "cell_type": "markdown",
   "metadata": {},
   "source": [
    "steam games"
   ]
  },
  {
   "cell_type": "code",
   "execution_count": 24,
   "metadata": {},
   "outputs": [],
   "source": [
    "json_file = 'Datos-Json/output_steam_games.json'\n",
    "csv_file = 'Datos-Csv/output_steam_games.csv'\n",
    "json_to_csv(json_file, csv_file)"
   ]
  },
  {
   "cell_type": "markdown",
   "metadata": {},
   "source": [
    "user reviews"
   ]
  },
  {
   "cell_type": "code",
   "execution_count": null,
   "metadata": {},
   "outputs": [],
   "source": [
    "json_file = 'Datos-Json/australian_user_reviews.json'\n",
    "csv_file = 'Datos-Csv/australian_user_reviews.csv'\n",
    "json_to_csv2(json_file, csv_file)"
   ]
  },
  {
   "cell_type": "markdown",
   "metadata": {},
   "source": [
    "user items"
   ]
  },
  {
   "cell_type": "code",
   "execution_count": 19,
   "metadata": {},
   "outputs": [
    {
     "name": "stdout",
     "output_type": "stream",
     "text": [
      "Archivo Datos-Json/users_items.json.gz extraído en Datos-Json/australian_users_items.json\n"
     ]
    }
   ],
   "source": [
    "extract_gzip('Datos-Json/users_items.json.gz', 'Datos-Json/australian_users_items.json')"
   ]
  },
  {
   "cell_type": "code",
   "execution_count": 21,
   "metadata": {},
   "outputs": [],
   "source": [
    "json_file = 'Datos-Json/australian_users_items.json'\n",
    "csv_file = 'Datos-Csv/australian_user_items.csv'\n",
    "json_to_csv2(json_file, csv_file)"
   ]
  },
  {
   "cell_type": "markdown",
   "metadata": {},
   "source": [
    "los transformo en dataframes"
   ]
  },
  {
   "cell_type": "code",
   "execution_count": 25,
   "metadata": {},
   "outputs": [
    {
     "name": "stderr",
     "output_type": "stream",
     "text": [
      "C:\\Users\\Facundete\\AppData\\Local\\Temp\\ipykernel_5772\\3411682378.py:6: DtypeWarning: Columns (0,1,2,3,4,5,6,7,8,9,10,12) have mixed types. Specify dtype option on import or set low_memory=False.\n",
      "  df_output_steam_games = pd.read_csv('Datos-Csv/output_steam_games.csv')\n"
     ]
    }
   ],
   "source": [
    "import pandas as pd\n",
    "\n",
    "# Cargar los archivos CSV en DataFrames\n",
    "df_australian_user_reviews = pd.read_csv('Datos-Csv/australian_user_reviews.csv')\n",
    "df_australian_users_items = pd.read_csv('Datos-Csv/australian_user_items.csv')\n",
    "df_output_steam_games = pd.read_csv('Datos-Csv/output_steam_games.csv')\n"
   ]
  },
  {
   "cell_type": "markdown",
   "metadata": {},
   "source": [
    "valido los dataframes"
   ]
  },
  {
   "cell_type": "code",
   "execution_count": 26,
   "metadata": {},
   "outputs": [
    {
     "data": {
      "text/html": [
       "<div>\n",
       "<style scoped>\n",
       "    .dataframe tbody tr th:only-of-type {\n",
       "        vertical-align: middle;\n",
       "    }\n",
       "\n",
       "    .dataframe tbody tr th {\n",
       "        vertical-align: top;\n",
       "    }\n",
       "\n",
       "    .dataframe thead th {\n",
       "        text-align: right;\n",
       "    }\n",
       "</style>\n",
       "<table border=\"1\" class=\"dataframe\">\n",
       "  <thead>\n",
       "    <tr style=\"text-align: right;\">\n",
       "      <th></th>\n",
       "      <th>user_id</th>\n",
       "      <th>user_url</th>\n",
       "      <th>reviews</th>\n",
       "    </tr>\n",
       "  </thead>\n",
       "  <tbody>\n",
       "    <tr>\n",
       "      <th>16747</th>\n",
       "      <td>76561198169374360</td>\n",
       "      <td>http://steamcommunity.com/profiles/76561198169...</td>\n",
       "      <td>[{'funny': '', 'posted': 'Posted July 12.', 'l...</td>\n",
       "    </tr>\n",
       "    <tr>\n",
       "      <th>2836</th>\n",
       "      <td>a4fg44as54g</td>\n",
       "      <td>http://steamcommunity.com/id/a4fg44as54g</td>\n",
       "      <td>[{'funny': '', 'posted': 'Posted September 27,...</td>\n",
       "    </tr>\n",
       "    <tr>\n",
       "      <th>22657</th>\n",
       "      <td>76561198074327940</td>\n",
       "      <td>http://steamcommunity.com/profiles/76561198074...</td>\n",
       "      <td>[{'funny': '', 'posted': 'Posted November 16, ...</td>\n",
       "    </tr>\n",
       "    <tr>\n",
       "      <th>945</th>\n",
       "      <td>76561198094830975</td>\n",
       "      <td>http://steamcommunity.com/profiles/76561198094...</td>\n",
       "      <td>[{'funny': '', 'posted': 'Posted March 1.', 'l...</td>\n",
       "    </tr>\n",
       "    <tr>\n",
       "      <th>15247</th>\n",
       "      <td>potatonuggsssss</td>\n",
       "      <td>http://steamcommunity.com/id/potatonuggsssss</td>\n",
       "      <td>[{'funny': '', 'posted': 'Posted May 25, 2015....</td>\n",
       "    </tr>\n",
       "  </tbody>\n",
       "</table>\n",
       "</div>"
      ],
      "text/plain": [
       "                 user_id                                           user_url  \\\n",
       "16747  76561198169374360  http://steamcommunity.com/profiles/76561198169...   \n",
       "2836         a4fg44as54g           http://steamcommunity.com/id/a4fg44as54g   \n",
       "22657  76561198074327940  http://steamcommunity.com/profiles/76561198074...   \n",
       "945    76561198094830975  http://steamcommunity.com/profiles/76561198094...   \n",
       "15247    potatonuggsssss       http://steamcommunity.com/id/potatonuggsssss   \n",
       "\n",
       "                                                 reviews  \n",
       "16747  [{'funny': '', 'posted': 'Posted July 12.', 'l...  \n",
       "2836   [{'funny': '', 'posted': 'Posted September 27,...  \n",
       "22657  [{'funny': '', 'posted': 'Posted November 16, ...  \n",
       "945    [{'funny': '', 'posted': 'Posted March 1.', 'l...  \n",
       "15247  [{'funny': '', 'posted': 'Posted May 25, 2015....  "
      ]
     },
     "execution_count": 26,
     "metadata": {},
     "output_type": "execute_result"
    }
   ],
   "source": [
    "df_australian_user_reviews.sample(5)"
   ]
  },
  {
   "cell_type": "code",
   "execution_count": 27,
   "metadata": {},
   "outputs": [
    {
     "data": {
      "text/html": [
       "<div>\n",
       "<style scoped>\n",
       "    .dataframe tbody tr th:only-of-type {\n",
       "        vertical-align: middle;\n",
       "    }\n",
       "\n",
       "    .dataframe tbody tr th {\n",
       "        vertical-align: top;\n",
       "    }\n",
       "\n",
       "    .dataframe thead th {\n",
       "        text-align: right;\n",
       "    }\n",
       "</style>\n",
       "<table border=\"1\" class=\"dataframe\">\n",
       "  <thead>\n",
       "    <tr style=\"text-align: right;\">\n",
       "      <th></th>\n",
       "      <th>user_id</th>\n",
       "      <th>items_count</th>\n",
       "      <th>steam_id</th>\n",
       "      <th>user_url</th>\n",
       "      <th>items</th>\n",
       "    </tr>\n",
       "  </thead>\n",
       "  <tbody>\n",
       "    <tr>\n",
       "      <th>29279</th>\n",
       "      <td>76561198045444761</td>\n",
       "      <td>156</td>\n",
       "      <td>76561198045444761</td>\n",
       "      <td>http://steamcommunity.com/profiles/76561198045...</td>\n",
       "      <td>[{'item_id': '4000', 'item_name': \"Garry's Mod...</td>\n",
       "    </tr>\n",
       "    <tr>\n",
       "      <th>12732</th>\n",
       "      <td>Stromtrooper21</td>\n",
       "      <td>145</td>\n",
       "      <td>76561198097059278</td>\n",
       "      <td>http://steamcommunity.com/id/Stromtrooper21</td>\n",
       "      <td>[{'item_id': '220', 'item_name': 'Half-Life 2'...</td>\n",
       "    </tr>\n",
       "    <tr>\n",
       "      <th>46246</th>\n",
       "      <td>kurty_nark</td>\n",
       "      <td>13</td>\n",
       "      <td>76561198013840671</td>\n",
       "      <td>http://steamcommunity.com/id/kurty_nark</td>\n",
       "      <td>[{'item_id': '17430', 'item_name': 'Need for S...</td>\n",
       "    </tr>\n",
       "    <tr>\n",
       "      <th>30146</th>\n",
       "      <td>76561198074469721</td>\n",
       "      <td>41</td>\n",
       "      <td>76561198074469721</td>\n",
       "      <td>http://steamcommunity.com/profiles/76561198074...</td>\n",
       "      <td>[{'item_id': '4000', 'item_name': \"Garry's Mod...</td>\n",
       "    </tr>\n",
       "    <tr>\n",
       "      <th>38736</th>\n",
       "      <td>76561198054753156</td>\n",
       "      <td>208</td>\n",
       "      <td>76561198054753156</td>\n",
       "      <td>http://steamcommunity.com/profiles/76561198054...</td>\n",
       "      <td>[{'item_id': '70', 'item_name': 'Half-Life', '...</td>\n",
       "    </tr>\n",
       "  </tbody>\n",
       "</table>\n",
       "</div>"
      ],
      "text/plain": [
       "                 user_id  items_count           steam_id  \\\n",
       "29279  76561198045444761          156  76561198045444761   \n",
       "12732     Stromtrooper21          145  76561198097059278   \n",
       "46246         kurty_nark           13  76561198013840671   \n",
       "30146  76561198074469721           41  76561198074469721   \n",
       "38736  76561198054753156          208  76561198054753156   \n",
       "\n",
       "                                                user_url  \\\n",
       "29279  http://steamcommunity.com/profiles/76561198045...   \n",
       "12732        http://steamcommunity.com/id/Stromtrooper21   \n",
       "46246            http://steamcommunity.com/id/kurty_nark   \n",
       "30146  http://steamcommunity.com/profiles/76561198074...   \n",
       "38736  http://steamcommunity.com/profiles/76561198054...   \n",
       "\n",
       "                                                   items  \n",
       "29279  [{'item_id': '4000', 'item_name': \"Garry's Mod...  \n",
       "12732  [{'item_id': '220', 'item_name': 'Half-Life 2'...  \n",
       "46246  [{'item_id': '17430', 'item_name': 'Need for S...  \n",
       "30146  [{'item_id': '4000', 'item_name': \"Garry's Mod...  \n",
       "38736  [{'item_id': '70', 'item_name': 'Half-Life', '...  "
      ]
     },
     "execution_count": 27,
     "metadata": {},
     "output_type": "execute_result"
    }
   ],
   "source": [
    "df_australian_users_items.sample(5)"
   ]
  },
  {
   "cell_type": "code",
   "execution_count": 38,
   "metadata": {},
   "outputs": [
    {
     "data": {
      "text/html": [
       "<div>\n",
       "<style scoped>\n",
       "    .dataframe tbody tr th:only-of-type {\n",
       "        vertical-align: middle;\n",
       "    }\n",
       "\n",
       "    .dataframe tbody tr th {\n",
       "        vertical-align: top;\n",
       "    }\n",
       "\n",
       "    .dataframe thead th {\n",
       "        text-align: right;\n",
       "    }\n",
       "</style>\n",
       "<table border=\"1\" class=\"dataframe\">\n",
       "  <thead>\n",
       "    <tr style=\"text-align: right;\">\n",
       "      <th></th>\n",
       "      <th>publisher</th>\n",
       "      <th>genres</th>\n",
       "      <th>app_name</th>\n",
       "      <th>title</th>\n",
       "      <th>url</th>\n",
       "      <th>release_date</th>\n",
       "      <th>tags</th>\n",
       "      <th>reviews_url</th>\n",
       "      <th>specs</th>\n",
       "      <th>price</th>\n",
       "      <th>early_access</th>\n",
       "      <th>id</th>\n",
       "      <th>developer</th>\n",
       "    </tr>\n",
       "  </thead>\n",
       "  <tbody>\n",
       "    <tr>\n",
       "      <th>35661</th>\n",
       "      <td>NaN</td>\n",
       "      <td>NaN</td>\n",
       "      <td>NaN</td>\n",
       "      <td>NaN</td>\n",
       "      <td>NaN</td>\n",
       "      <td>NaN</td>\n",
       "      <td>NaN</td>\n",
       "      <td>NaN</td>\n",
       "      <td>NaN</td>\n",
       "      <td>NaN</td>\n",
       "      <td>NaN</td>\n",
       "      <td>NaN</td>\n",
       "      <td>NaN</td>\n",
       "    </tr>\n",
       "    <tr>\n",
       "      <th>100596</th>\n",
       "      <td>Double Dice Games</td>\n",
       "      <td>['Adventure', 'Indie', 'RPG']</td>\n",
       "      <td>Willy-Nilly Knight</td>\n",
       "      <td>Willy-Nilly Knight</td>\n",
       "      <td>http://store.steampowered.com/app/610500/Willy...</td>\n",
       "      <td>2017-11-10</td>\n",
       "      <td>['RPG', 'Adventure', 'Indie', 'Fantasy', 'Tact...</td>\n",
       "      <td>http://steamcommunity.com/app/610500/reviews/?...</td>\n",
       "      <td>['Single-player', 'Steam Achievements', 'Steam...</td>\n",
       "      <td>14.99</td>\n",
       "      <td>False</td>\n",
       "      <td>610500.0</td>\n",
       "      <td>Double Dice Games</td>\n",
       "    </tr>\n",
       "    <tr>\n",
       "      <th>20437</th>\n",
       "      <td>NaN</td>\n",
       "      <td>NaN</td>\n",
       "      <td>NaN</td>\n",
       "      <td>NaN</td>\n",
       "      <td>NaN</td>\n",
       "      <td>NaN</td>\n",
       "      <td>NaN</td>\n",
       "      <td>NaN</td>\n",
       "      <td>NaN</td>\n",
       "      <td>NaN</td>\n",
       "      <td>NaN</td>\n",
       "      <td>NaN</td>\n",
       "      <td>NaN</td>\n",
       "    </tr>\n",
       "    <tr>\n",
       "      <th>116940</th>\n",
       "      <td>Re-Logic</td>\n",
       "      <td>['Adventure', 'Indie', 'RPG', 'Simulation']</td>\n",
       "      <td>Pixel Piracy</td>\n",
       "      <td>Pixel Piracy</td>\n",
       "      <td>http://store.steampowered.com/app/264140/Pixel...</td>\n",
       "      <td>2015-04-23</td>\n",
       "      <td>['Pirates', 'Indie', 'Pixel Graphics', 'RPG', ...</td>\n",
       "      <td>http://steamcommunity.com/app/264140/reviews/?...</td>\n",
       "      <td>['Single-player', 'Steam Achievements', 'Steam...</td>\n",
       "      <td>9.99</td>\n",
       "      <td>False</td>\n",
       "      <td>264140.0</td>\n",
       "      <td>Vitali Kirpu</td>\n",
       "    </tr>\n",
       "    <tr>\n",
       "      <th>69536</th>\n",
       "      <td>NaN</td>\n",
       "      <td>NaN</td>\n",
       "      <td>NaN</td>\n",
       "      <td>NaN</td>\n",
       "      <td>NaN</td>\n",
       "      <td>NaN</td>\n",
       "      <td>NaN</td>\n",
       "      <td>NaN</td>\n",
       "      <td>NaN</td>\n",
       "      <td>NaN</td>\n",
       "      <td>NaN</td>\n",
       "      <td>NaN</td>\n",
       "      <td>NaN</td>\n",
       "    </tr>\n",
       "  </tbody>\n",
       "</table>\n",
       "</div>"
      ],
      "text/plain": [
       "                publisher                                       genres  \\\n",
       "35661                 NaN                                          NaN   \n",
       "100596  Double Dice Games                ['Adventure', 'Indie', 'RPG']   \n",
       "20437                 NaN                                          NaN   \n",
       "116940           Re-Logic  ['Adventure', 'Indie', 'RPG', 'Simulation']   \n",
       "69536                 NaN                                          NaN   \n",
       "\n",
       "                  app_name               title  \\\n",
       "35661                  NaN                 NaN   \n",
       "100596  Willy-Nilly Knight  Willy-Nilly Knight   \n",
       "20437                  NaN                 NaN   \n",
       "116940        Pixel Piracy        Pixel Piracy   \n",
       "69536                  NaN                 NaN   \n",
       "\n",
       "                                                      url release_date  \\\n",
       "35661                                                 NaN          NaN   \n",
       "100596  http://store.steampowered.com/app/610500/Willy...   2017-11-10   \n",
       "20437                                                 NaN          NaN   \n",
       "116940  http://store.steampowered.com/app/264140/Pixel...   2015-04-23   \n",
       "69536                                                 NaN          NaN   \n",
       "\n",
       "                                                     tags  \\\n",
       "35661                                                 NaN   \n",
       "100596  ['RPG', 'Adventure', 'Indie', 'Fantasy', 'Tact...   \n",
       "20437                                                 NaN   \n",
       "116940  ['Pirates', 'Indie', 'Pixel Graphics', 'RPG', ...   \n",
       "69536                                                 NaN   \n",
       "\n",
       "                                              reviews_url  \\\n",
       "35661                                                 NaN   \n",
       "100596  http://steamcommunity.com/app/610500/reviews/?...   \n",
       "20437                                                 NaN   \n",
       "116940  http://steamcommunity.com/app/264140/reviews/?...   \n",
       "69536                                                 NaN   \n",
       "\n",
       "                                                    specs  price early_access  \\\n",
       "35661                                                 NaN    NaN          NaN   \n",
       "100596  ['Single-player', 'Steam Achievements', 'Steam...  14.99        False   \n",
       "20437                                                 NaN    NaN          NaN   \n",
       "116940  ['Single-player', 'Steam Achievements', 'Steam...   9.99        False   \n",
       "69536                                                 NaN    NaN          NaN   \n",
       "\n",
       "              id          developer  \n",
       "35661        NaN                NaN  \n",
       "100596  610500.0  Double Dice Games  \n",
       "20437        NaN                NaN  \n",
       "116940  264140.0       Vitali Kirpu  \n",
       "69536        NaN                NaN  "
      ]
     },
     "execution_count": 38,
     "metadata": {},
     "output_type": "execute_result"
    }
   ],
   "source": [
    "df_output_steam_games.sample(5)"
   ]
  },
  {
   "cell_type": "markdown",
   "metadata": {},
   "source": [
    "## Transform"
   ]
  },
  {
   "cell_type": "markdown",
   "metadata": {},
   "source": [
    "Funcion de normalizacion"
   ]
  },
  {
   "cell_type": "code",
   "execution_count": 39,
   "metadata": {},
   "outputs": [],
   "source": [
    "import pandas as pd\n",
    "\n",
    "#normalizacion en general\n",
    "def normalize_dataframe(df, null_tolerance, column_name=None, min_chars=None):\n",
    "    # Eliminar duplicados\n",
    "    df.drop_duplicates(inplace=True)\n",
    "\n",
    "    # Eliminar filas con más de 'null_tolerance' valores nulos\n",
    "    df.dropna(thresh=null_tolerance, inplace=True)\n",
    "\n",
    "    # Eliminar filas que contienen listas vacías\n",
    "    for col in df.columns:\n",
    "        df = df[df[col].apply(lambda x: x != [] if isinstance(x, list) else True)]\n",
    "\n",
    "    # Si se proporciona un nombre de columna y un mínimo de caracteres,\n",
    "    # eliminar las filas donde el contenido de esa columna tiene menos caracteres que 'min_chars'\n",
    "    if column_name and min_chars:\n",
    "        df = df[df[column_name].str.len() >= min_chars]\n",
    "\n",
    "    # Si se proporciona un nombre de columna,\n",
    "    # eliminar las filas donde el contenido de esa columna es una lista vacía\n",
    "    if column_name:\n",
    "        df = df[df[column_name].apply(lambda x: x != [] if isinstance(x, list) else True)]\n",
    "\n",
    "    return df\n"
   ]
  },
  {
   "cell_type": "markdown",
   "metadata": {},
   "source": [
    "normalizacion de fechas"
   ]
  },
  {
   "cell_type": "code",
   "execution_count": 40,
   "metadata": {},
   "outputs": [],
   "source": [
    "import pandas as pd\n",
    "\n",
    "#normalizacion de fechas\n",
    "def normalize_date_column(df, date_column):\n",
    "    # Intentamos convertir la columna de fechas al formato deseado\n",
    "    try:\n",
    "        df[date_column] = pd.to_datetime(df[date_column], format='%Y-%m-%d')\n",
    "    except ValueError:\n",
    "        # Si la conversión falla, eliminamos las filas con fechas en un formato incorrecto\n",
    "        df = df[pd.to_datetime(df[date_column], errors='coerce').notna()]\n",
    "    return df\n"
   ]
  },
  {
   "cell_type": "markdown",
   "metadata": {},
   "source": [
    "#### Steam Games"
   ]
  },
  {
   "cell_type": "code",
   "execution_count": 41,
   "metadata": {},
   "outputs": [],
   "source": [
    "df_output_steam_games_normalizado=normalize_dataframe(df_output_steam_games,5)\n",
    "df_output_steam_games_normalizado=normalize_date_column(df_output_steam_games,'release_date')"
   ]
  },
  {
   "cell_type": "markdown",
   "metadata": {},
   "source": [
    "#### User Reviews"
   ]
  },
  {
   "cell_type": "markdown",
   "metadata": {},
   "source": [
    "Analisis de las emociones de las reseñas"
   ]
  },
  {
   "cell_type": "code",
   "execution_count": 46,
   "metadata": {},
   "outputs": [
    {
     "name": "stdout",
     "output_type": "stream",
     "text": [
      "                                                 reviews\n",
      "0      [{'sentiment_analysis': 2, 'funny': '', 'poste...\n",
      "1      [{'sentiment_analysis': 2, 'funny': '', 'poste...\n",
      "2      [{'sentiment_analysis': 2, 'funny': '', 'poste...\n",
      "3      [{'sentiment_analysis': 2, 'funny': '', 'poste...\n",
      "4      [{'sentiment_analysis': 1, 'funny': '3 people ...\n",
      "...                                                  ...\n",
      "25794  [{'sentiment_analysis': 2, 'funny': '', 'poste...\n",
      "25795  [{'sentiment_analysis': 1, 'funny': '', 'poste...\n",
      "25796  [{'sentiment_analysis': 1, 'funny': '1 person ...\n",
      "25797  [{'sentiment_analysis': 2, 'funny': '', 'poste...\n",
      "25798  [{'sentiment_analysis': 2, 'funny': '1 person ...\n",
      "\n",
      "[25799 rows x 1 columns]\n"
     ]
    }
   ],
   "source": [
    "import pandas as pd\n",
    "from textblob import TextBlob\n",
    "\n",
    "# Asegurarse de que 'reviews' sea una lista de diccionarios\n",
    "df_australian_user_reviews['reviews'] = df_australian_user_reviews['reviews'].apply(lambda x: eval(x) if pd.notna(x) else [])\n",
    "\n",
    "# Extraer el contenido de la columna 'review'\n",
    "df_australian_user_reviews['review_content'] = df_australian_user_reviews['reviews'].apply(lambda reviews: [review['review'] for review in reviews])\n",
    "\n",
    "# Función para realizar el análisis de sentimiento y devolver el puntaje\n",
    "def get_sentiment_score(review):\n",
    "    analysis = TextBlob(str(review))\n",
    "    if analysis.sentiment.polarity > 0:\n",
    "        return 2  # Positivo\n",
    "    elif analysis.sentiment.polarity == 0:\n",
    "        return 1  # Neutral\n",
    "    else:\n",
    "        return 0  # Negativo\n",
    "\n",
    "# Aplicar el análisis de sentimiento y reemplazar el texto en 'review' con el puntaje\n",
    "df_australian_user_reviews['reviews'] = df_australian_user_reviews['reviews'].apply(lambda reviews: [{'sentiment_analysis': get_sentiment_score(review['review']), **review} for review in reviews])\n",
    "\n",
    "# Imprimir las primeras filas del DataFrame resultante\n",
    "print(df_australian_user_reviews[['reviews']])\n"
   ]
  },
  {
   "cell_type": "code",
   "execution_count": 48,
   "metadata": {},
   "outputs": [
    {
     "data": {
      "text/html": [
       "<div>\n",
       "<style scoped>\n",
       "    .dataframe tbody tr th:only-of-type {\n",
       "        vertical-align: middle;\n",
       "    }\n",
       "\n",
       "    .dataframe tbody tr th {\n",
       "        vertical-align: top;\n",
       "    }\n",
       "\n",
       "    .dataframe thead th {\n",
       "        text-align: right;\n",
       "    }\n",
       "</style>\n",
       "<table border=\"1\" class=\"dataframe\">\n",
       "  <thead>\n",
       "    <tr style=\"text-align: right;\">\n",
       "      <th></th>\n",
       "      <th>user_id</th>\n",
       "      <th>user_url</th>\n",
       "      <th>reviews</th>\n",
       "      <th>review_content</th>\n",
       "    </tr>\n",
       "  </thead>\n",
       "  <tbody>\n",
       "    <tr>\n",
       "      <th>9979</th>\n",
       "      <td>ImAwreo</td>\n",
       "      <td>http://steamcommunity.com/id/ImAwreo</td>\n",
       "      <td>[{'sentiment_analysis': 0, 'funny': '1 person ...</td>\n",
       "      <td>[fun game would recommend for zombie lovers]</td>\n",
       "    </tr>\n",
       "    <tr>\n",
       "      <th>9039</th>\n",
       "      <td>imjeans</td>\n",
       "      <td>http://steamcommunity.com/id/imjeans</td>\n",
       "      <td>[{'sentiment_analysis': 2, 'funny': '1 person ...</td>\n",
       "      <td>[I don't like thisit is better to go back to s...</td>\n",
       "    </tr>\n",
       "    <tr>\n",
       "      <th>18810</th>\n",
       "      <td>onshypnos</td>\n",
       "      <td>http://steamcommunity.com/id/onshypnos</td>\n",
       "      <td>[{'sentiment_analysis': 2, 'funny': '', 'poste...</td>\n",
       "      <td>[Short, but one of the more inventive puzzlers...</td>\n",
       "    </tr>\n",
       "    <tr>\n",
       "      <th>24005</th>\n",
       "      <td>76561198088378528</td>\n",
       "      <td>http://steamcommunity.com/profiles/76561198088...</td>\n",
       "      <td>[{'sentiment_analysis': 2, 'funny': '', 'poste...</td>\n",
       "      <td>[I've played the game for over 4 years now, i ...</td>\n",
       "    </tr>\n",
       "    <tr>\n",
       "      <th>12070</th>\n",
       "      <td>76561198072429924</td>\n",
       "      <td>http://steamcommunity.com/profiles/76561198072...</td>\n",
       "      <td>[{'sentiment_analysis': 2, 'funny': '', 'poste...</td>\n",
       "      <td>[i keep finsing this glitch that pissies me of...</td>\n",
       "    </tr>\n",
       "  </tbody>\n",
       "</table>\n",
       "</div>"
      ],
      "text/plain": [
       "                 user_id                                           user_url  \\\n",
       "9979             ImAwreo               http://steamcommunity.com/id/ImAwreo   \n",
       "9039             imjeans               http://steamcommunity.com/id/imjeans   \n",
       "18810          onshypnos             http://steamcommunity.com/id/onshypnos   \n",
       "24005  76561198088378528  http://steamcommunity.com/profiles/76561198088...   \n",
       "12070  76561198072429924  http://steamcommunity.com/profiles/76561198072...   \n",
       "\n",
       "                                                 reviews  \\\n",
       "9979   [{'sentiment_analysis': 0, 'funny': '1 person ...   \n",
       "9039   [{'sentiment_analysis': 2, 'funny': '1 person ...   \n",
       "18810  [{'sentiment_analysis': 2, 'funny': '', 'poste...   \n",
       "24005  [{'sentiment_analysis': 2, 'funny': '', 'poste...   \n",
       "12070  [{'sentiment_analysis': 2, 'funny': '', 'poste...   \n",
       "\n",
       "                                          review_content  \n",
       "9979        [fun game would recommend for zombie lovers]  \n",
       "9039   [I don't like thisit is better to go back to s...  \n",
       "18810  [Short, but one of the more inventive puzzlers...  \n",
       "24005  [I've played the game for over 4 years now, i ...  \n",
       "12070  [i keep finsing this glitch that pissies me of...  "
      ]
     },
     "execution_count": 48,
     "metadata": {},
     "output_type": "execute_result"
    }
   ],
   "source": [
    "df_australian_user_reviews.sample(5)"
   ]
  },
  {
   "cell_type": "code",
   "execution_count": null,
   "metadata": {},
   "outputs": [],
   "source": [
    "df_australian_user_reviews.to_csv('Datos-Normalizados/australian_user_reviews_normalizado.csv')"
   ]
  },
  {
   "cell_type": "markdown",
   "metadata": {},
   "source": [
    "#### User Items"
   ]
  },
  {
   "cell_type": "code",
   "execution_count": 49,
   "metadata": {},
   "outputs": [],
   "source": [
    "df_australian_users_items_normalizado=normalize_dataframe(df_australian_users_items,0,'items',4)"
   ]
  },
  {
   "cell_type": "code",
   "execution_count": 50,
   "metadata": {},
   "outputs": [
    {
     "data": {
      "text/html": [
       "<div>\n",
       "<style scoped>\n",
       "    .dataframe tbody tr th:only-of-type {\n",
       "        vertical-align: middle;\n",
       "    }\n",
       "\n",
       "    .dataframe tbody tr th {\n",
       "        vertical-align: top;\n",
       "    }\n",
       "\n",
       "    .dataframe thead th {\n",
       "        text-align: right;\n",
       "    }\n",
       "</style>\n",
       "<table border=\"1\" class=\"dataframe\">\n",
       "  <thead>\n",
       "    <tr style=\"text-align: right;\">\n",
       "      <th></th>\n",
       "      <th>user_id</th>\n",
       "      <th>items_count</th>\n",
       "      <th>steam_id</th>\n",
       "      <th>user_url</th>\n",
       "      <th>items</th>\n",
       "    </tr>\n",
       "  </thead>\n",
       "  <tbody>\n",
       "    <tr>\n",
       "      <th>41742</th>\n",
       "      <td>76561198046800891</td>\n",
       "      <td>80</td>\n",
       "      <td>76561198046800891</td>\n",
       "      <td>http://steamcommunity.com/profiles/76561198046...</td>\n",
       "      <td>[{'item_id': '7670', 'item_name': 'BioShock', ...</td>\n",
       "    </tr>\n",
       "    <tr>\n",
       "      <th>87714</th>\n",
       "      <td>76561198180539829</td>\n",
       "      <td>12</td>\n",
       "      <td>76561198180539829</td>\n",
       "      <td>http://steamcommunity.com/profiles/76561198180...</td>\n",
       "      <td>[{'item_id': '205790', 'item_name': 'Dota 2 Te...</td>\n",
       "    </tr>\n",
       "    <tr>\n",
       "      <th>68068</th>\n",
       "      <td>76561198072413255</td>\n",
       "      <td>120</td>\n",
       "      <td>76561198072413255</td>\n",
       "      <td>http://steamcommunity.com/profiles/76561198072...</td>\n",
       "      <td>[{'item_id': '33910', 'item_name': 'Arma 2', '...</td>\n",
       "    </tr>\n",
       "    <tr>\n",
       "      <th>1642</th>\n",
       "      <td>76561198060670197</td>\n",
       "      <td>54</td>\n",
       "      <td>76561198060670197</td>\n",
       "      <td>http://steamcommunity.com/profiles/76561198060...</td>\n",
       "      <td>[{'item_id': '4000', 'item_name': \"Garry's Mod...</td>\n",
       "    </tr>\n",
       "    <tr>\n",
       "      <th>64416</th>\n",
       "      <td>76561198068925902</td>\n",
       "      <td>3</td>\n",
       "      <td>76561198068925902</td>\n",
       "      <td>http://steamcommunity.com/profiles/76561198068...</td>\n",
       "      <td>[{'item_id': '205790', 'item_name': 'Dota 2 Te...</td>\n",
       "    </tr>\n",
       "  </tbody>\n",
       "</table>\n",
       "</div>"
      ],
      "text/plain": [
       "                 user_id  items_count           steam_id  \\\n",
       "41742  76561198046800891           80  76561198046800891   \n",
       "87714  76561198180539829           12  76561198180539829   \n",
       "68068  76561198072413255          120  76561198072413255   \n",
       "1642   76561198060670197           54  76561198060670197   \n",
       "64416  76561198068925902            3  76561198068925902   \n",
       "\n",
       "                                                user_url  \\\n",
       "41742  http://steamcommunity.com/profiles/76561198046...   \n",
       "87714  http://steamcommunity.com/profiles/76561198180...   \n",
       "68068  http://steamcommunity.com/profiles/76561198072...   \n",
       "1642   http://steamcommunity.com/profiles/76561198060...   \n",
       "64416  http://steamcommunity.com/profiles/76561198068...   \n",
       "\n",
       "                                                   items  \n",
       "41742  [{'item_id': '7670', 'item_name': 'BioShock', ...  \n",
       "87714  [{'item_id': '205790', 'item_name': 'Dota 2 Te...  \n",
       "68068  [{'item_id': '33910', 'item_name': 'Arma 2', '...  \n",
       "1642   [{'item_id': '4000', 'item_name': \"Garry's Mod...  \n",
       "64416  [{'item_id': '205790', 'item_name': 'Dota 2 Te...  "
      ]
     },
     "execution_count": 50,
     "metadata": {},
     "output_type": "execute_result"
    }
   ],
   "source": [
    "df_australian_users_items_normalizado.sample(5)"
   ]
  },
  {
   "cell_type": "markdown",
   "metadata": {},
   "source": [
    "## Load"
   ]
  },
  {
   "cell_type": "markdown",
   "metadata": {},
   "source": [
    "#### User Reviews"
   ]
  },
  {
   "cell_type": "code",
   "execution_count": 51,
   "metadata": {},
   "outputs": [],
   "source": [
    "df_australian_user_reviews.to_csv('Datos-Normalizados/australian_user_reviews_normalizado.csv')"
   ]
  },
  {
   "cell_type": "markdown",
   "metadata": {},
   "source": [
    "#### User Items"
   ]
  },
  {
   "cell_type": "code",
   "execution_count": 52,
   "metadata": {},
   "outputs": [],
   "source": [
    "df_australian_users_items_normalizado.to_csv('Datos-Normalizados/australian_users_items_normalizado.csv')"
   ]
  },
  {
   "cell_type": "markdown",
   "metadata": {},
   "source": [
    "#### Steam Games"
   ]
  },
  {
   "cell_type": "code",
   "execution_count": 53,
   "metadata": {},
   "outputs": [],
   "source": [
    "df_output_steam_games_normalizado.to_csv(\"Datos-Normalizados/output_steam_games_normalizado.csv\")"
   ]
  }
 ],
 "metadata": {
  "kernelspec": {
   "display_name": "venv",
   "language": "python",
   "name": "python3"
  },
  "language_info": {
   "codemirror_mode": {
    "name": "ipython",
    "version": 3
   },
   "file_extension": ".py",
   "mimetype": "text/x-python",
   "name": "python",
   "nbconvert_exporter": "python",
   "pygments_lexer": "ipython3",
   "version": "3.9.13"
  }
 },
 "nbformat": 4,
 "nbformat_minor": 2
}
