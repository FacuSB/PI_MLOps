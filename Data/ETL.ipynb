{
 "cells": [
  {
   "cell_type": "markdown",
   "metadata": {},
   "source": [
    "## Extract"
   ]
  },
  {
   "cell_type": "markdown",
   "metadata": {},
   "source": [
    "Primero que nada transformo los datos en csv para visualizarlo mas facilmente, no es necesario pero me facilita ver los datos de una forma mas intuitiva "
   ]
  },
  {
   "cell_type": "markdown",
   "metadata": {},
   "source": [
    "#### Convertir los json a csv"
   ]
  },
  {
   "cell_type": "markdown",
   "metadata": {},
   "source": [
    "funcion para extraer gzip"
   ]
  },
  {
   "cell_type": "code",
   "execution_count": 5,
   "metadata": {},
   "outputs": [],
   "source": [
    "\n",
    "import gzip\n",
    "import shutil\n",
    "\n",
    "def extract_gzip(gzip_path, dest_path):\n",
    "    with gzip.open(gzip_path, 'rb') as f_in:\n",
    "        with open(dest_path, 'wb') as f_out:\n",
    "            shutil.copyfileobj(f_in, f_out)\n",
    "    print(f'Archivo {gzip_path} extraído en {dest_path}')\n"
   ]
  },
  {
   "cell_type": "markdown",
   "metadata": {},
   "source": [
    "funciones para convertir los json en csv"
   ]
  },
  {
   "cell_type": "code",
   "execution_count": 6,
   "metadata": {},
   "outputs": [],
   "source": [
    "import json\n",
    "import csv\n",
    "\n",
    "def json_to_csv(json_file, csv_file):\n",
    "    # Abre el archivo JSON\n",
    "    with open(json_file, 'rt', encoding='utf-8') as file:\n",
    "        # Lee todas las líneas del archivo\n",
    "        json_lines = file.readlines()\n",
    "\n",
    "    # Convierte cada línea a un objeto Python y concaténalos en una lista\n",
    "    data = [json.loads(line) for line in json_lines]\n",
    "\n",
    "    # Abre el archivo CSV para escribir\n",
    "    with open(csv_file, 'w', newline='', encoding='utf-8') as csv_file:\n",
    "        # Crea un objeto escritor CSV\n",
    "        csv_writer = csv.writer(csv_file)\n",
    "\n",
    "        # Escribe el encabezado del CSV (asumiendo que los keys del primer objeto son los encabezados)\n",
    "        csv_writer.writerow(data[0].keys())\n",
    "\n",
    "        # Escribe cada fila en el CSV\n",
    "        for row in data:\n",
    "            csv_writer.writerow(row.values())"
   ]
  },
  {
   "cell_type": "code",
   "execution_count": 7,
   "metadata": {},
   "outputs": [],
   "source": [
    "import ast\n",
    "import pandas as pd\n",
    "\n",
    "def json_to_csv2(json_file, csv_file):\n",
    "    # Inicializamos una lista vacía para almacenar los datos\n",
    "    data = []\n",
    "\n",
    "    # Abrimos el archivo JSON en modo lectura\n",
    "    with open(json_file, 'r', encoding='utf-8') as f:\n",
    "        # Iteramos sobre cada línea en el archivo\n",
    "        for line in f:\n",
    "            try:\n",
    "                # Intentamos convertir la línea de texto a un objeto Python usando ast.literal_eval\n",
    "                # y lo añadimos a la lista data\n",
    "                data.append(ast.literal_eval(line))\n",
    "            except:\n",
    "                continue\n",
    "\n",
    "    # Convertimos la lista de datos a un DataFrame de pandas\n",
    "    df = pd.DataFrame(data)\n",
    "\n",
    "    # Guardamos el DataFrame en un archivo CSV\n",
    "    df.to_csv(csv_file, index=False)\n"
   ]
  },
  {
   "cell_type": "markdown",
   "metadata": {},
   "source": [
    "aplico las funciones"
   ]
  },
  {
   "cell_type": "markdown",
   "metadata": {},
   "source": [
    "steam games"
   ]
  },
  {
   "cell_type": "code",
   "execution_count": 8,
   "metadata": {},
   "outputs": [],
   "source": [
    "json_file = 'Datos-Json/output_steam_games.json'\n",
    "csv_file = 'Datos-Csv/output_steam_games.csv'\n",
    "json_to_csv(json_file, csv_file)"
   ]
  },
  {
   "cell_type": "markdown",
   "metadata": {},
   "source": [
    "user reviews"
   ]
  },
  {
   "cell_type": "code",
   "execution_count": 9,
   "metadata": {},
   "outputs": [],
   "source": [
    "json_file = 'Datos-Json/australian_user_reviews.json'\n",
    "csv_file = 'Datos-Csv/australian_user_reviews.csv'\n",
    "json_to_csv2(json_file, csv_file)"
   ]
  },
  {
   "cell_type": "markdown",
   "metadata": {},
   "source": [
    "user items"
   ]
  },
  {
   "cell_type": "code",
   "execution_count": 10,
   "metadata": {},
   "outputs": [
    {
     "name": "stdout",
     "output_type": "stream",
     "text": [
      "Archivo Datos-Json/users_items.json.gz extraído en Datos-Json/australian_users_items.json\n"
     ]
    }
   ],
   "source": [
    "extract_gzip('Datos-Json/users_items.json.gz', 'Datos-Json/australian_users_items.json')"
   ]
  },
  {
   "cell_type": "code",
   "execution_count": 11,
   "metadata": {},
   "outputs": [],
   "source": [
    "json_file = 'Datos-Json/australian_users_items.json'\n",
    "csv_file = 'Datos-Csv/australian_user_items.csv'\n",
    "json_to_csv2(json_file, csv_file)"
   ]
  },
  {
   "cell_type": "markdown",
   "metadata": {},
   "source": [
    "los transformo en dataframes"
   ]
  },
  {
   "cell_type": "code",
   "execution_count": 12,
   "metadata": {},
   "outputs": [
    {
     "name": "stderr",
     "output_type": "stream",
     "text": [
      "C:\\Users\\Facundete\\AppData\\Local\\Temp\\ipykernel_16508\\3411682378.py:6: DtypeWarning: Columns (0,1,2,3,4,5,6,7,8,9,10,12) have mixed types. Specify dtype option on import or set low_memory=False.\n",
      "  df_output_steam_games = pd.read_csv('Datos-Csv/output_steam_games.csv')\n"
     ]
    }
   ],
   "source": [
    "import pandas as pd\n",
    "\n",
    "# Cargar los archivos CSV en DataFrames\n",
    "df_australian_user_reviews = pd.read_csv('Datos-Csv/australian_user_reviews.csv')\n",
    "df_australian_users_items = pd.read_csv('Datos-Csv/australian_user_items.csv')\n",
    "df_output_steam_games = pd.read_csv('Datos-Csv/output_steam_games.csv')\n"
   ]
  },
  {
   "cell_type": "markdown",
   "metadata": {},
   "source": [
    "valido los dataframes"
   ]
  },
  {
   "cell_type": "code",
   "execution_count": 13,
   "metadata": {},
   "outputs": [
    {
     "data": {
      "text/html": [
       "<div>\n",
       "<style scoped>\n",
       "    .dataframe tbody tr th:only-of-type {\n",
       "        vertical-align: middle;\n",
       "    }\n",
       "\n",
       "    .dataframe tbody tr th {\n",
       "        vertical-align: top;\n",
       "    }\n",
       "\n",
       "    .dataframe thead th {\n",
       "        text-align: right;\n",
       "    }\n",
       "</style>\n",
       "<table border=\"1\" class=\"dataframe\">\n",
       "  <thead>\n",
       "    <tr style=\"text-align: right;\">\n",
       "      <th></th>\n",
       "      <th>user_id</th>\n",
       "      <th>user_url</th>\n",
       "      <th>reviews</th>\n",
       "    </tr>\n",
       "  </thead>\n",
       "  <tbody>\n",
       "    <tr>\n",
       "      <th>22234</th>\n",
       "      <td>76561198071102795</td>\n",
       "      <td>http://steamcommunity.com/profiles/76561198071...</td>\n",
       "      <td>[{'funny': '', 'posted': 'Posted July 12.', 'l...</td>\n",
       "    </tr>\n",
       "    <tr>\n",
       "      <th>12762</th>\n",
       "      <td>76561198071399737</td>\n",
       "      <td>http://steamcommunity.com/profiles/76561198071...</td>\n",
       "      <td>[{'funny': '', 'posted': 'Posted July 3, 2015....</td>\n",
       "    </tr>\n",
       "    <tr>\n",
       "      <th>23100</th>\n",
       "      <td>Bestyzazaka</td>\n",
       "      <td>http://steamcommunity.com/id/Bestyzazaka</td>\n",
       "      <td>[{'funny': '', 'posted': 'Posted June 13, 2014...</td>\n",
       "    </tr>\n",
       "    <tr>\n",
       "      <th>12565</th>\n",
       "      <td>76561198152308479</td>\n",
       "      <td>http://steamcommunity.com/profiles/76561198152...</td>\n",
       "      <td>[{'funny': '', 'posted': 'Posted April 8, 2015...</td>\n",
       "    </tr>\n",
       "    <tr>\n",
       "      <th>7286</th>\n",
       "      <td>76561198084616658</td>\n",
       "      <td>http://steamcommunity.com/profiles/76561198084...</td>\n",
       "      <td>[{'funny': '', 'posted': 'Posted December 8, 2...</td>\n",
       "    </tr>\n",
       "  </tbody>\n",
       "</table>\n",
       "</div>"
      ],
      "text/plain": [
       "                 user_id                                           user_url  \\\n",
       "22234  76561198071102795  http://steamcommunity.com/profiles/76561198071...   \n",
       "12762  76561198071399737  http://steamcommunity.com/profiles/76561198071...   \n",
       "23100        Bestyzazaka           http://steamcommunity.com/id/Bestyzazaka   \n",
       "12565  76561198152308479  http://steamcommunity.com/profiles/76561198152...   \n",
       "7286   76561198084616658  http://steamcommunity.com/profiles/76561198084...   \n",
       "\n",
       "                                                 reviews  \n",
       "22234  [{'funny': '', 'posted': 'Posted July 12.', 'l...  \n",
       "12762  [{'funny': '', 'posted': 'Posted July 3, 2015....  \n",
       "23100  [{'funny': '', 'posted': 'Posted June 13, 2014...  \n",
       "12565  [{'funny': '', 'posted': 'Posted April 8, 2015...  \n",
       "7286   [{'funny': '', 'posted': 'Posted December 8, 2...  "
      ]
     },
     "execution_count": 13,
     "metadata": {},
     "output_type": "execute_result"
    }
   ],
   "source": [
    "df_australian_user_reviews.sample(5)"
   ]
  },
  {
   "cell_type": "code",
   "execution_count": 14,
   "metadata": {},
   "outputs": [
    {
     "data": {
      "text/html": [
       "<div>\n",
       "<style scoped>\n",
       "    .dataframe tbody tr th:only-of-type {\n",
       "        vertical-align: middle;\n",
       "    }\n",
       "\n",
       "    .dataframe tbody tr th {\n",
       "        vertical-align: top;\n",
       "    }\n",
       "\n",
       "    .dataframe thead th {\n",
       "        text-align: right;\n",
       "    }\n",
       "</style>\n",
       "<table border=\"1\" class=\"dataframe\">\n",
       "  <thead>\n",
       "    <tr style=\"text-align: right;\">\n",
       "      <th></th>\n",
       "      <th>user_id</th>\n",
       "      <th>items_count</th>\n",
       "      <th>steam_id</th>\n",
       "      <th>user_url</th>\n",
       "      <th>items</th>\n",
       "    </tr>\n",
       "  </thead>\n",
       "  <tbody>\n",
       "    <tr>\n",
       "      <th>68394</th>\n",
       "      <td>76561198072706321</td>\n",
       "      <td>54</td>\n",
       "      <td>76561198072706321</td>\n",
       "      <td>http://steamcommunity.com/profiles/76561198072...</td>\n",
       "      <td>[{'item_id': '4000', 'item_name': \"Garry's Mod...</td>\n",
       "    </tr>\n",
       "    <tr>\n",
       "      <th>45243</th>\n",
       "      <td>dr-nick-au</td>\n",
       "      <td>5</td>\n",
       "      <td>76561198002832599</td>\n",
       "      <td>http://steamcommunity.com/id/dr-nick-au</td>\n",
       "      <td>[{'item_id': '17330', 'item_name': 'Crysis War...</td>\n",
       "    </tr>\n",
       "    <tr>\n",
       "      <th>72766</th>\n",
       "      <td>76561198078917043</td>\n",
       "      <td>29</td>\n",
       "      <td>76561198078917043</td>\n",
       "      <td>http://steamcommunity.com/profiles/76561198078...</td>\n",
       "      <td>[{'item_id': '4000', 'item_name': \"Garry's Mod...</td>\n",
       "    </tr>\n",
       "    <tr>\n",
       "      <th>15943</th>\n",
       "      <td>spartaaagh</td>\n",
       "      <td>82</td>\n",
       "      <td>76561198068588623</td>\n",
       "      <td>http://steamcommunity.com/id/spartaaagh</td>\n",
       "      <td>[{'item_id': '4000', 'item_name': \"Garry's Mod...</td>\n",
       "    </tr>\n",
       "    <tr>\n",
       "      <th>57545</th>\n",
       "      <td>76561198059031000</td>\n",
       "      <td>0</td>\n",
       "      <td>76561198059031000</td>\n",
       "      <td>http://steamcommunity.com/profiles/76561198059...</td>\n",
       "      <td>[]</td>\n",
       "    </tr>\n",
       "  </tbody>\n",
       "</table>\n",
       "</div>"
      ],
      "text/plain": [
       "                 user_id  items_count           steam_id  \\\n",
       "68394  76561198072706321           54  76561198072706321   \n",
       "45243         dr-nick-au            5  76561198002832599   \n",
       "72766  76561198078917043           29  76561198078917043   \n",
       "15943         spartaaagh           82  76561198068588623   \n",
       "57545  76561198059031000            0  76561198059031000   \n",
       "\n",
       "                                                user_url  \\\n",
       "68394  http://steamcommunity.com/profiles/76561198072...   \n",
       "45243            http://steamcommunity.com/id/dr-nick-au   \n",
       "72766  http://steamcommunity.com/profiles/76561198078...   \n",
       "15943            http://steamcommunity.com/id/spartaaagh   \n",
       "57545  http://steamcommunity.com/profiles/76561198059...   \n",
       "\n",
       "                                                   items  \n",
       "68394  [{'item_id': '4000', 'item_name': \"Garry's Mod...  \n",
       "45243  [{'item_id': '17330', 'item_name': 'Crysis War...  \n",
       "72766  [{'item_id': '4000', 'item_name': \"Garry's Mod...  \n",
       "15943  [{'item_id': '4000', 'item_name': \"Garry's Mod...  \n",
       "57545                                                 []  "
      ]
     },
     "execution_count": 14,
     "metadata": {},
     "output_type": "execute_result"
    }
   ],
   "source": [
    "df_australian_users_items.sample(5)"
   ]
  },
  {
   "cell_type": "code",
   "execution_count": 15,
   "metadata": {},
   "outputs": [
    {
     "data": {
      "text/html": [
       "<div>\n",
       "<style scoped>\n",
       "    .dataframe tbody tr th:only-of-type {\n",
       "        vertical-align: middle;\n",
       "    }\n",
       "\n",
       "    .dataframe tbody tr th {\n",
       "        vertical-align: top;\n",
       "    }\n",
       "\n",
       "    .dataframe thead th {\n",
       "        text-align: right;\n",
       "    }\n",
       "</style>\n",
       "<table border=\"1\" class=\"dataframe\">\n",
       "  <thead>\n",
       "    <tr style=\"text-align: right;\">\n",
       "      <th></th>\n",
       "      <th>publisher</th>\n",
       "      <th>genres</th>\n",
       "      <th>app_name</th>\n",
       "      <th>title</th>\n",
       "      <th>url</th>\n",
       "      <th>release_date</th>\n",
       "      <th>tags</th>\n",
       "      <th>reviews_url</th>\n",
       "      <th>specs</th>\n",
       "      <th>price</th>\n",
       "      <th>early_access</th>\n",
       "      <th>id</th>\n",
       "      <th>developer</th>\n",
       "    </tr>\n",
       "  </thead>\n",
       "  <tbody>\n",
       "    <tr>\n",
       "      <th>97448</th>\n",
       "      <td>NaN</td>\n",
       "      <td>['Indie', 'RPG', 'Strategy']</td>\n",
       "      <td>Fantasy Grounds - Secret of Marseille (Call of...</td>\n",
       "      <td>Fantasy Grounds - Secret of Marseille (Call of...</td>\n",
       "      <td>http://store.steampowered.com/app/607450/Fanta...</td>\n",
       "      <td>2017-03-15</td>\n",
       "      <td>['Strategy', 'RPG', 'Indie']</td>\n",
       "      <td>http://steamcommunity.com/app/607450/reviews/?...</td>\n",
       "      <td>['Multi-player', 'Co-op', 'Cross-Platform Mult...</td>\n",
       "      <td>5.99</td>\n",
       "      <td>False</td>\n",
       "      <td>607450.0</td>\n",
       "      <td>SmiteWorks USA, LLC</td>\n",
       "    </tr>\n",
       "    <tr>\n",
       "      <th>69633</th>\n",
       "      <td>NaN</td>\n",
       "      <td>NaN</td>\n",
       "      <td>NaN</td>\n",
       "      <td>NaN</td>\n",
       "      <td>NaN</td>\n",
       "      <td>NaN</td>\n",
       "      <td>NaN</td>\n",
       "      <td>NaN</td>\n",
       "      <td>NaN</td>\n",
       "      <td>NaN</td>\n",
       "      <td>NaN</td>\n",
       "      <td>NaN</td>\n",
       "      <td>NaN</td>\n",
       "    </tr>\n",
       "    <tr>\n",
       "      <th>34976</th>\n",
       "      <td>NaN</td>\n",
       "      <td>NaN</td>\n",
       "      <td>NaN</td>\n",
       "      <td>NaN</td>\n",
       "      <td>NaN</td>\n",
       "      <td>NaN</td>\n",
       "      <td>NaN</td>\n",
       "      <td>NaN</td>\n",
       "      <td>NaN</td>\n",
       "      <td>NaN</td>\n",
       "      <td>NaN</td>\n",
       "      <td>NaN</td>\n",
       "      <td>NaN</td>\n",
       "    </tr>\n",
       "    <tr>\n",
       "      <th>53065</th>\n",
       "      <td>NaN</td>\n",
       "      <td>NaN</td>\n",
       "      <td>NaN</td>\n",
       "      <td>NaN</td>\n",
       "      <td>NaN</td>\n",
       "      <td>NaN</td>\n",
       "      <td>NaN</td>\n",
       "      <td>NaN</td>\n",
       "      <td>NaN</td>\n",
       "      <td>NaN</td>\n",
       "      <td>NaN</td>\n",
       "      <td>NaN</td>\n",
       "      <td>NaN</td>\n",
       "    </tr>\n",
       "    <tr>\n",
       "      <th>60428</th>\n",
       "      <td>NaN</td>\n",
       "      <td>NaN</td>\n",
       "      <td>NaN</td>\n",
       "      <td>NaN</td>\n",
       "      <td>NaN</td>\n",
       "      <td>NaN</td>\n",
       "      <td>NaN</td>\n",
       "      <td>NaN</td>\n",
       "      <td>NaN</td>\n",
       "      <td>NaN</td>\n",
       "      <td>NaN</td>\n",
       "      <td>NaN</td>\n",
       "      <td>NaN</td>\n",
       "    </tr>\n",
       "  </tbody>\n",
       "</table>\n",
       "</div>"
      ],
      "text/plain": [
       "      publisher                        genres  \\\n",
       "97448       NaN  ['Indie', 'RPG', 'Strategy']   \n",
       "69633       NaN                           NaN   \n",
       "34976       NaN                           NaN   \n",
       "53065       NaN                           NaN   \n",
       "60428       NaN                           NaN   \n",
       "\n",
       "                                                app_name  \\\n",
       "97448  Fantasy Grounds - Secret of Marseille (Call of...   \n",
       "69633                                                NaN   \n",
       "34976                                                NaN   \n",
       "53065                                                NaN   \n",
       "60428                                                NaN   \n",
       "\n",
       "                                                   title  \\\n",
       "97448  Fantasy Grounds - Secret of Marseille (Call of...   \n",
       "69633                                                NaN   \n",
       "34976                                                NaN   \n",
       "53065                                                NaN   \n",
       "60428                                                NaN   \n",
       "\n",
       "                                                     url release_date  \\\n",
       "97448  http://store.steampowered.com/app/607450/Fanta...   2017-03-15   \n",
       "69633                                                NaN          NaN   \n",
       "34976                                                NaN          NaN   \n",
       "53065                                                NaN          NaN   \n",
       "60428                                                NaN          NaN   \n",
       "\n",
       "                               tags  \\\n",
       "97448  ['Strategy', 'RPG', 'Indie']   \n",
       "69633                           NaN   \n",
       "34976                           NaN   \n",
       "53065                           NaN   \n",
       "60428                           NaN   \n",
       "\n",
       "                                             reviews_url  \\\n",
       "97448  http://steamcommunity.com/app/607450/reviews/?...   \n",
       "69633                                                NaN   \n",
       "34976                                                NaN   \n",
       "53065                                                NaN   \n",
       "60428                                                NaN   \n",
       "\n",
       "                                                   specs price early_access  \\\n",
       "97448  ['Multi-player', 'Co-op', 'Cross-Platform Mult...  5.99        False   \n",
       "69633                                                NaN   NaN          NaN   \n",
       "34976                                                NaN   NaN          NaN   \n",
       "53065                                                NaN   NaN          NaN   \n",
       "60428                                                NaN   NaN          NaN   \n",
       "\n",
       "             id            developer  \n",
       "97448  607450.0  SmiteWorks USA, LLC  \n",
       "69633       NaN                  NaN  \n",
       "34976       NaN                  NaN  \n",
       "53065       NaN                  NaN  \n",
       "60428       NaN                  NaN  "
      ]
     },
     "execution_count": 15,
     "metadata": {},
     "output_type": "execute_result"
    }
   ],
   "source": [
    "df_output_steam_games.sample(5)"
   ]
  },
  {
   "cell_type": "markdown",
   "metadata": {},
   "source": [
    "## Transform"
   ]
  },
  {
   "cell_type": "markdown",
   "metadata": {},
   "source": [
    "Funcion de normalizacion"
   ]
  },
  {
   "cell_type": "code",
   "execution_count": 16,
   "metadata": {},
   "outputs": [],
   "source": [
    "import pandas as pd\n",
    "\n",
    "#normalizacion en general\n",
    "def normalize_dataframe(df, null_tolerance, column_name=None, min_chars=None):\n",
    "    # Eliminar duplicados\n",
    "    df.drop_duplicates(inplace=True)\n",
    "\n",
    "    # Eliminar filas con más de 'null_tolerance' valores nulos\n",
    "    df.dropna(thresh=null_tolerance, inplace=True)\n",
    "\n",
    "    # Eliminar filas que contienen listas vacías\n",
    "    for col in df.columns:\n",
    "        df = df[df[col].apply(lambda x: x != [] if isinstance(x, list) else True)]\n",
    "\n",
    "    # Si se proporciona un nombre de columna y un mínimo de caracteres,\n",
    "    # eliminar las filas donde el contenido de esa columna tiene menos caracteres que 'min_chars'\n",
    "    if column_name and min_chars:\n",
    "        df = df[df[column_name].str.len() >= min_chars]\n",
    "\n",
    "    # Si se proporciona un nombre de columna,\n",
    "    # eliminar las filas donde el contenido de esa columna es una lista vacía\n",
    "    if column_name:\n",
    "        df = df[df[column_name].apply(lambda x: x != [] if isinstance(x, list) else True)]\n",
    "\n",
    "    return df\n"
   ]
  },
  {
   "cell_type": "markdown",
   "metadata": {},
   "source": [
    "normalizacion de fechas"
   ]
  },
  {
   "cell_type": "code",
   "execution_count": 17,
   "metadata": {},
   "outputs": [],
   "source": [
    "import pandas as pd\n",
    "\n",
    "#normalizacion de fechas\n",
    "def normalize_date_column(df, date_column):\n",
    "    # Intentamos convertir la columna de fechas al formato deseado\n",
    "    try:\n",
    "        df[date_column] = pd.to_datetime(df[date_column], format='%Y-%m-%d')\n",
    "    except ValueError:\n",
    "        # Si la conversión falla, eliminamos las filas con fechas en un formato incorrecto\n",
    "        df = df[pd.to_datetime(df[date_column], errors='coerce').notna()]\n",
    "    return df\n"
   ]
  },
  {
   "cell_type": "markdown",
   "metadata": {},
   "source": [
    "#### Steam Games"
   ]
  },
  {
   "cell_type": "code",
   "execution_count": 18,
   "metadata": {},
   "outputs": [],
   "source": [
    "df_output_steam_games_normalizado=normalize_dataframe(df_output_steam_games,5)\n",
    "df_output_steam_games_normalizado=normalize_date_column(df_output_steam_games,'release_date')"
   ]
  },
  {
   "cell_type": "markdown",
   "metadata": {},
   "source": [
    "#### User Reviews"
   ]
  },
  {
   "cell_type": "markdown",
   "metadata": {},
   "source": [
    "Analisis de las emociones de las reseñas"
   ]
  },
  {
   "cell_type": "code",
   "execution_count": 19,
   "metadata": {},
   "outputs": [
    {
     "name": "stdout",
     "output_type": "stream",
     "text": [
      "                                                 reviews\n",
      "0      [{'sentiment_analysis': 2, 'funny': '', 'poste...\n",
      "1      [{'sentiment_analysis': 2, 'funny': '', 'poste...\n",
      "2      [{'sentiment_analysis': 2, 'funny': '', 'poste...\n",
      "3      [{'sentiment_analysis': 2, 'funny': '', 'poste...\n",
      "4      [{'sentiment_analysis': 1, 'funny': '3 people ...\n",
      "...                                                  ...\n",
      "25794  [{'sentiment_analysis': 2, 'funny': '', 'poste...\n",
      "25795  [{'sentiment_analysis': 1, 'funny': '', 'poste...\n",
      "25796  [{'sentiment_analysis': 1, 'funny': '1 person ...\n",
      "25797  [{'sentiment_analysis': 2, 'funny': '', 'poste...\n",
      "25798  [{'sentiment_analysis': 2, 'funny': '1 person ...\n",
      "\n",
      "[25799 rows x 1 columns]\n"
     ]
    }
   ],
   "source": [
    "import pandas as pd\n",
    "from textblob import TextBlob\n",
    "\n",
    "# Asegurarse de que 'reviews' sea una lista de diccionarios\n",
    "df_australian_user_reviews['reviews'] = df_australian_user_reviews['reviews'].apply(lambda x: eval(x) if pd.notna(x) else [])\n",
    "\n",
    "# Extraer el contenido de la columna 'review'\n",
    "df_australian_user_reviews['review_content'] = df_australian_user_reviews['reviews'].apply(lambda reviews: [review['review'] for review in reviews])\n",
    "\n",
    "# Función para realizar el análisis de sentimiento y devolver el puntaje\n",
    "def get_sentiment_score(review):\n",
    "    analysis = TextBlob(str(review))\n",
    "    if analysis.sentiment.polarity > 0:\n",
    "        return 2  # Positivo\n",
    "    elif analysis.sentiment.polarity == 0:\n",
    "        return 1  # Neutral\n",
    "    else:\n",
    "        return 0  # Negativo\n",
    "\n",
    "# Aplicar el análisis de sentimiento y reemplazar el texto en 'review' con el puntaje\n",
    "df_australian_user_reviews['reviews'] = df_australian_user_reviews['reviews'].apply(lambda reviews: [{'sentiment_analysis': get_sentiment_score(review['review']), **review} for review in reviews])\n",
    "\n",
    "# Imprimir las primeras filas del DataFrame resultante\n",
    "print(df_australian_user_reviews[['reviews']])\n"
   ]
  },
  {
   "cell_type": "code",
   "execution_count": 20,
   "metadata": {},
   "outputs": [
    {
     "data": {
      "text/html": [
       "<div>\n",
       "<style scoped>\n",
       "    .dataframe tbody tr th:only-of-type {\n",
       "        vertical-align: middle;\n",
       "    }\n",
       "\n",
       "    .dataframe tbody tr th {\n",
       "        vertical-align: top;\n",
       "    }\n",
       "\n",
       "    .dataframe thead th {\n",
       "        text-align: right;\n",
       "    }\n",
       "</style>\n",
       "<table border=\"1\" class=\"dataframe\">\n",
       "  <thead>\n",
       "    <tr style=\"text-align: right;\">\n",
       "      <th></th>\n",
       "      <th>user_id</th>\n",
       "      <th>user_url</th>\n",
       "      <th>reviews</th>\n",
       "      <th>review_content</th>\n",
       "    </tr>\n",
       "  </thead>\n",
       "  <tbody>\n",
       "    <tr>\n",
       "      <th>12499</th>\n",
       "      <td>76561198042359407</td>\n",
       "      <td>http://steamcommunity.com/profiles/76561198042...</td>\n",
       "      <td>[{'sentiment_analysis': 1, 'funny': '', 'poste...</td>\n",
       "      <td>[10/10]</td>\n",
       "    </tr>\n",
       "    <tr>\n",
       "      <th>13902</th>\n",
       "      <td>livaris</td>\n",
       "      <td>http://steamcommunity.com/id/livaris</td>\n",
       "      <td>[{'sentiment_analysis': 2, 'funny': '', 'poste...</td>\n",
       "      <td>[DLC looks great and I'd really wish everyone ...</td>\n",
       "    </tr>\n",
       "    <tr>\n",
       "      <th>6385</th>\n",
       "      <td>TFWUMastab82Sanic</td>\n",
       "      <td>http://steamcommunity.com/id/TFWUMastab82Sanic</td>\n",
       "      <td>[{'sentiment_analysis': 2, 'funny': '', 'poste...</td>\n",
       "      <td>[Its basic, But amazing. It really is great an...</td>\n",
       "    </tr>\n",
       "    <tr>\n",
       "      <th>8868</th>\n",
       "      <td>76561198089779183</td>\n",
       "      <td>http://steamcommunity.com/profiles/76561198089...</td>\n",
       "      <td>[{'sentiment_analysis': 1, 'funny': '', 'poste...</td>\n",
       "      <td>[Killing Floor 2  no Mac ?, 💋💋💋💋💋💋💋💋💋💋💋💋💋💋💋💋💋💋...</td>\n",
       "    </tr>\n",
       "    <tr>\n",
       "      <th>24360</th>\n",
       "      <td>felixguard12</td>\n",
       "      <td>http://steamcommunity.com/id/felixguard12</td>\n",
       "      <td>[{'sentiment_analysis': 1, 'funny': '', 'poste...</td>\n",
       "      <td>[ดีมากเกมนี้]</td>\n",
       "    </tr>\n",
       "  </tbody>\n",
       "</table>\n",
       "</div>"
      ],
      "text/plain": [
       "                 user_id                                           user_url  \\\n",
       "12499  76561198042359407  http://steamcommunity.com/profiles/76561198042...   \n",
       "13902            livaris               http://steamcommunity.com/id/livaris   \n",
       "6385   TFWUMastab82Sanic     http://steamcommunity.com/id/TFWUMastab82Sanic   \n",
       "8868   76561198089779183  http://steamcommunity.com/profiles/76561198089...   \n",
       "24360       felixguard12          http://steamcommunity.com/id/felixguard12   \n",
       "\n",
       "                                                 reviews  \\\n",
       "12499  [{'sentiment_analysis': 1, 'funny': '', 'poste...   \n",
       "13902  [{'sentiment_analysis': 2, 'funny': '', 'poste...   \n",
       "6385   [{'sentiment_analysis': 2, 'funny': '', 'poste...   \n",
       "8868   [{'sentiment_analysis': 1, 'funny': '', 'poste...   \n",
       "24360  [{'sentiment_analysis': 1, 'funny': '', 'poste...   \n",
       "\n",
       "                                          review_content  \n",
       "12499                                            [10/10]  \n",
       "13902  [DLC looks great and I'd really wish everyone ...  \n",
       "6385   [Its basic, But amazing. It really is great an...  \n",
       "8868   [Killing Floor 2  no Mac ?, 💋💋💋💋💋💋💋💋💋💋💋💋💋💋💋💋💋💋...  \n",
       "24360                                      [ดีมากเกมนี้]  "
      ]
     },
     "execution_count": 20,
     "metadata": {},
     "output_type": "execute_result"
    }
   ],
   "source": [
    "df_australian_user_reviews.sample(5)"
   ]
  },
  {
   "cell_type": "code",
   "execution_count": 21,
   "metadata": {},
   "outputs": [],
   "source": [
    "df_australian_user_reviews.to_csv('Datos-Normalizados/australian_user_reviews_normalizado.csv')"
   ]
  },
  {
   "cell_type": "markdown",
   "metadata": {},
   "source": [
    "#### User Items"
   ]
  },
  {
   "cell_type": "code",
   "execution_count": 22,
   "metadata": {},
   "outputs": [],
   "source": [
    "df_australian_users_items_normalizado=normalize_dataframe(df_australian_users_items,0,'items',4)"
   ]
  },
  {
   "cell_type": "code",
   "execution_count": 23,
   "metadata": {},
   "outputs": [
    {
     "data": {
      "text/html": [
       "<div>\n",
       "<style scoped>\n",
       "    .dataframe tbody tr th:only-of-type {\n",
       "        vertical-align: middle;\n",
       "    }\n",
       "\n",
       "    .dataframe tbody tr th {\n",
       "        vertical-align: top;\n",
       "    }\n",
       "\n",
       "    .dataframe thead th {\n",
       "        text-align: right;\n",
       "    }\n",
       "</style>\n",
       "<table border=\"1\" class=\"dataframe\">\n",
       "  <thead>\n",
       "    <tr style=\"text-align: right;\">\n",
       "      <th></th>\n",
       "      <th>user_id</th>\n",
       "      <th>items_count</th>\n",
       "      <th>steam_id</th>\n",
       "      <th>user_url</th>\n",
       "      <th>items</th>\n",
       "    </tr>\n",
       "  </thead>\n",
       "  <tbody>\n",
       "    <tr>\n",
       "      <th>39505</th>\n",
       "      <td>76561198092492252</td>\n",
       "      <td>47</td>\n",
       "      <td>76561198092492252</td>\n",
       "      <td>http://steamcommunity.com/profiles/76561198092...</td>\n",
       "      <td>[{'item_id': '1250', 'item_name': 'Killing Flo...</td>\n",
       "    </tr>\n",
       "    <tr>\n",
       "      <th>68322</th>\n",
       "      <td>nimoxnazgul</td>\n",
       "      <td>4</td>\n",
       "      <td>76561198072636155</td>\n",
       "      <td>http://steamcommunity.com/id/nimoxnazgul</td>\n",
       "      <td>[{'item_id': '205790', 'item_name': 'Dota 2 Te...</td>\n",
       "    </tr>\n",
       "    <tr>\n",
       "      <th>77152</th>\n",
       "      <td>76561198086318133</td>\n",
       "      <td>86</td>\n",
       "      <td>76561198086318133</td>\n",
       "      <td>http://steamcommunity.com/profiles/76561198086...</td>\n",
       "      <td>[{'item_id': '6510', 'item_name': 'Lost Planet...</td>\n",
       "    </tr>\n",
       "    <tr>\n",
       "      <th>21424</th>\n",
       "      <td>theapocalixto</td>\n",
       "      <td>56</td>\n",
       "      <td>76561198103565839</td>\n",
       "      <td>http://steamcommunity.com/id/theapocalixto</td>\n",
       "      <td>[{'item_id': '4000', 'item_name': \"Garry's Mod...</td>\n",
       "    </tr>\n",
       "    <tr>\n",
       "      <th>62336</th>\n",
       "      <td>76561198066549984</td>\n",
       "      <td>2</td>\n",
       "      <td>76561198066549984</td>\n",
       "      <td>http://steamcommunity.com/profiles/76561198066...</td>\n",
       "      <td>[{'item_id': '730', 'item_name': 'Counter-Stri...</td>\n",
       "    </tr>\n",
       "  </tbody>\n",
       "</table>\n",
       "</div>"
      ],
      "text/plain": [
       "                 user_id  items_count           steam_id  \\\n",
       "39505  76561198092492252           47  76561198092492252   \n",
       "68322        nimoxnazgul            4  76561198072636155   \n",
       "77152  76561198086318133           86  76561198086318133   \n",
       "21424      theapocalixto           56  76561198103565839   \n",
       "62336  76561198066549984            2  76561198066549984   \n",
       "\n",
       "                                                user_url  \\\n",
       "39505  http://steamcommunity.com/profiles/76561198092...   \n",
       "68322           http://steamcommunity.com/id/nimoxnazgul   \n",
       "77152  http://steamcommunity.com/profiles/76561198086...   \n",
       "21424         http://steamcommunity.com/id/theapocalixto   \n",
       "62336  http://steamcommunity.com/profiles/76561198066...   \n",
       "\n",
       "                                                   items  \n",
       "39505  [{'item_id': '1250', 'item_name': 'Killing Flo...  \n",
       "68322  [{'item_id': '205790', 'item_name': 'Dota 2 Te...  \n",
       "77152  [{'item_id': '6510', 'item_name': 'Lost Planet...  \n",
       "21424  [{'item_id': '4000', 'item_name': \"Garry's Mod...  \n",
       "62336  [{'item_id': '730', 'item_name': 'Counter-Stri...  "
      ]
     },
     "execution_count": 23,
     "metadata": {},
     "output_type": "execute_result"
    }
   ],
   "source": [
    "df_australian_users_items_normalizado.sample(5)"
   ]
  },
  {
   "cell_type": "markdown",
   "metadata": {},
   "source": [
    "## Load"
   ]
  },
  {
   "cell_type": "markdown",
   "metadata": {},
   "source": [
    "#### User Reviews"
   ]
  },
  {
   "cell_type": "code",
   "execution_count": 24,
   "metadata": {},
   "outputs": [],
   "source": [
    "df_australian_user_reviews.to_csv('Datos-Normalizados/australian_user_reviews_normalizado.csv')"
   ]
  },
  {
   "cell_type": "markdown",
   "metadata": {},
   "source": [
    "#### User Items"
   ]
  },
  {
   "cell_type": "code",
   "execution_count": 25,
   "metadata": {},
   "outputs": [],
   "source": [
    "df_australian_users_items_normalizado.to_csv('Datos-Normalizados/australian_users_items_normalizado.csv')"
   ]
  },
  {
   "cell_type": "markdown",
   "metadata": {},
   "source": [
    "#### Steam Games"
   ]
  },
  {
   "cell_type": "code",
   "execution_count": 26,
   "metadata": {},
   "outputs": [],
   "source": [
    "df_output_steam_games_normalizado.to_csv(\"Datos-Normalizados/output_steam_games_normalizado.csv\")"
   ]
  }
 ],
 "metadata": {
  "kernelspec": {
   "display_name": "venv",
   "language": "python",
   "name": "python3"
  },
  "language_info": {
   "codemirror_mode": {
    "name": "ipython",
    "version": 3
   },
   "file_extension": ".py",
   "mimetype": "text/x-python",
   "name": "python",
   "nbconvert_exporter": "python",
   "pygments_lexer": "ipython3",
   "version": "3.9.13"
  }
 },
 "nbformat": 4,
 "nbformat_minor": 2
}
